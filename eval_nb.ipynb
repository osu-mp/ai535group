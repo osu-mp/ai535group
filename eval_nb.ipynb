{
 "cells": [
  {
   "cell_type": "code",
   "execution_count": null,
   "id": "b1934c36-7f67-4077-ac3b-091b27afa6db",
   "metadata": {},
   "outputs": [],
   "source": [
    "from oxford_pets_train_script import *"
   ]
  },
  {
   "cell_type": "code",
   "execution_count": null,
   "id": "85d92e0f-046e-476c-88af-a9a0827cd48a",
   "metadata": {},
   "outputs": [],
   "source": [
    "fs, ds, ts = gen_dataset()\n",
    "to_pil = transforms.ToPILImage()\n",
    "model = gen_model(fs.num_classes)\n",
    "tdata, tlabel = ts[100]\n",
    "tim = to_pil(tdata)\n",
    "\n",
    "model.eval()\n",
    "with torch.no_grad():\n",
    "    preds = model([tdata])\n",
    "    \n",
    "plt.imshow(tim)"
   ]
  }
 ],
 "metadata": {
  "kernelspec": {
   "display_name": "Python 3 (ipykernel)",
   "language": "python",
   "name": "python3"
  },
  "language_info": {
   "codemirror_mode": {
    "name": "ipython",
    "version": 3
   },
   "file_extension": ".py",
   "mimetype": "text/x-python",
   "name": "python",
   "nbconvert_exporter": "python",
   "pygments_lexer": "ipython3",
   "version": "3.10.12"
  }
 },
 "nbformat": 4,
 "nbformat_minor": 5
}
