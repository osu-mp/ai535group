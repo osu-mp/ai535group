{
 "cells": [
  {
   "cell_type": "code",
   "execution_count": null,
   "id": "b1934c36-7f67-4077-ac3b-091b27afa6db",
   "metadata": {},
   "outputs": [],
   "source": [
    "from oxford_pets_train_script import *\n",
    "import torchvision.transforms.functional as F\n",
    "import torch\n",
    "import numpy as np\n",
    "import matplotlib.pyplot as plt\n",
    "from torchvision.utils import make_grid\n",
    "from torchvision.io import read_image\n",
    "from pathlib import Path\n",
    "import pickle\n",
    "from PIL import ImageFont\n",
    "from torchvision.utils import draw_bounding_boxes, draw_segmentation_masks\n",
    "from torchvision.ops import box_iou\n",
    "from torchvision.transforms.functional import convert_image_dtype\n",
    "\n",
    "# https://pytorch.org/vision/0.10/auto_examples/plot_visualization_utils.html\n",
    "# boxes and masks"
   ]
  },
  {
   "cell_type": "code",
   "execution_count": null,
   "id": "bfe4cbc7-9082-43dd-a30c-cd6faa3a1903",
   "metadata": {},
   "outputs": [],
   "source": [
    "with open(\"aug_test_losses.pkl\", \"rb\") as fd:\n",
    "    a = pickle.load(fd)\n",
    "with open(\"aug_train_losses.pkl\", \"rb\") as fd:\n",
    "    b = pickle.load(fd)\n",
    "with open(\"base_test_losses.pkl\", \"rb\") as fd:\n",
    "    c = pickle.load(fd)\n",
    "with open(\"base_train_losses.pkl\", \"rb\") as fd:\n",
    "    d = pickle.load(fd)"
   ]
  },
  {
   "cell_type": "code",
   "execution_count": null,
   "id": "298938ba-76c2-49cd-885b-748a04412b37",
   "metadata": {},
   "outputs": [],
   "source": [
    "print(np.min(c) - np.min(a))"
   ]
  },
  {
   "cell_type": "code",
   "execution_count": null,
   "id": "e5842188-c365-42e3-8a3b-473a4c436a0e",
   "metadata": {},
   "outputs": [],
   "source": [
    "plt.plot(range(len(a)), a, label=\"Aug test losses\")\n",
    "plt.plot(range(len(b)), b, label=\"Aug train losses\")\n",
    "plt.plot(range(len(c)), c, label=\"Base test losses\")\n",
    "plt.plot(range(len(d)), d, label=\"Base train losses\")\n",
    "plt.legend()\n",
    "plt.show()"
   ]
  },
  {
   "cell_type": "code",
   "execution_count": null,
   "id": "17b3927a-512f-48a0-bfdd-65a92997075b",
   "metadata": {},
   "outputs": [],
   "source": [
    "def show(imgs):\n",
    "    if not isinstance(imgs, list):\n",
    "        imgs = [imgs]\n",
    "    fix, axs = plt.subplots(ncols=len(imgs), squeeze=False, figsize=(15, 10))\n",
    "    for i, img in enumerate(imgs):\n",
    "        img = img.detach()\n",
    "        img = F.to_pil_image(img)\n",
    "        axs[0, i].imshow(np.asarray(img))\n",
    "        axs[0, i].set(xticklabels=[], yticklabels=[], xticks=[], yticks=[])\n",
    "\n",
    "\n",
    "mean = -np.array([0.485, 0.456, 0.406])\n",
    "std = 1 / np.array([0.229, 0.224, 0.225])\n",
    "inverse_norm = transforms.Compose(\n",
    "    [\n",
    "        transforms.Normalize(mean=[0.0, 0.0, 0.0], std=std),\n",
    "        transforms.Normalize(mean=mean, std=[1, 1, 1]),\n",
    "    ]\n",
    ")\n",
    "\n",
    "\n",
    "def draw_bb(normed_img_data, boxes):\n",
    "    reg_img = inverse_norm(normed_img_data)\n",
    "    reg_img = convert_image_dtype(reg_image, dtype=torch.uint8).to(\"cpu\")\n",
    "    boxed_img = draw_bounding_boxes(reg_image, boxes)\n",
    "    return boxed_img"
   ]
  },
  {
   "cell_type": "code",
   "execution_count": null,
   "id": "4fd0833a-1dcf-44c5-8659-2dc0da1bf11d",
   "metadata": {},
   "outputs": [],
   "source": [
    "fs, ds, ts = gen_dataset()\n",
    "id_to_breed = {v: k for k, v in fs.breed_assoc.items()}\n",
    "dl, tl = gen_loaders(ds, ts, batch_size=1)\n",
    "test_dataset = ts\n",
    "base_model = torch.load(\"best_base_model\").to(device)\n",
    "aug_model = torch.load(\"best_aug_model\").to(device)\n",
    "pitbull_idx = 1000\n",
    "havanese_idx = 2000\n",
    "tdata, tlabel = fs.get_unchanged_pic(havanese_idx)"
   ]
  },
  {
   "cell_type": "code",
   "execution_count": null,
   "id": "a1eeb13d-1a39-4d85-aff0-a3e2f419fd03",
   "metadata": {},
   "outputs": [],
   "source": [
    "def gen_mask_and_box_for_model_and_data(model, img_tensor, label):\n",
    "    font_path = \"/usr/share/fonts/truetype/liberation/LiberationMono-Italic.ttf\"\n",
    "    font_size = 14\n",
    "    # font = ImageFont.truetype(font_path, size=6)\n",
    "    model.eval()\n",
    "    with torch.no_grad():\n",
    "        preds = model([img_tensor])\n",
    "\n",
    "    reg_image = convert_image_dtype(\n",
    "        inverse_norm(img_tensor.clone()), dtype=torch.uint8\n",
    "    ).to(\"cpu\")\n",
    "\n",
    "    if preds[0][\"labels\"].numel() > 0:\n",
    "        animal_name = id_to_breed[label[\"labels\"].item()]\n",
    "        top = preds[0][\"labels\"][0].item()\n",
    "        pred_name = id_to_breed[preds[0][\"labels\"][0].item()]\n",
    "        if top == label[\"labels\"][0].item():\n",
    "            # correctly predicted\n",
    "            reg_pred_image_w_boxes = draw_bounding_boxes(\n",
    "                reg_image,\n",
    "                preds[0][\"boxes\"][:1],\n",
    "                colors=[\"green\"],\n",
    "                labels=[pred_name],\n",
    "                font=font_path,\n",
    "                font_size=font_size,\n",
    "            )\n",
    "        else:\n",
    "            reg_pred_image_w_boxes = draw_bounding_boxes(\n",
    "                reg_image,\n",
    "                preds[0][\"boxes\"][:1],\n",
    "                colors=[\"red\"],\n",
    "                labels=[pred_name],\n",
    "                font=font_path,\n",
    "                font_size=font_size,\n",
    "            )\n",
    "\n",
    "        reg_label_image_w_boxes = draw_bounding_boxes(\n",
    "            reg_image,\n",
    "            label[\"boxes\"][:1],\n",
    "            colors=[\"white\"],\n",
    "            labels=[animal_name],\n",
    "            font=font_path,\n",
    "            font_size=font_size,\n",
    "        )\n",
    "        reg_image_w_mask = draw_segmentation_masks(\n",
    "            reg_image, masks=preds[0][\"masks\"][0] > 0.5, alpha=0.7, colors=[\"green\"]\n",
    "        )\n",
    "        reg_image_w_mask = draw_segmentation_masks(\n",
    "            reg_image_w_mask, masks=label[\"masks\"][0] > 0.5, alpha=0.4, colors=[\"red\"]\n",
    "        )\n",
    "        # reg_image_w_box_w_mask = draw_bounding_boxes(draw_segmentation_masks(reg_image, masks=preds[0][\"masks\"][0]>0.5, alpha=0.7), preds[0][\"boxes\"][:1])\n",
    "\n",
    "    else:\n",
    "        raise Exception(\"No category in labels\")\n",
    "    return reg_pred_image_w_boxes, reg_label_image_w_boxes, reg_image_w_mask"
   ]
  },
  {
   "cell_type": "code",
   "execution_count": null,
   "id": "8544bc75-4e9f-426c-96bd-3c684c5a2815",
   "metadata": {},
   "outputs": [],
   "source": [
    "pred_boximg, label_boximg, maskimg = gen_mask_and_box_for_model_and_data(\n",
    "    base_model, tdata, tlabel\n",
    ")"
   ]
  },
  {
   "cell_type": "code",
   "execution_count": null,
   "id": "522a5e47-3175-4e98-a845-458f7502f391",
   "metadata": {},
   "outputs": [],
   "source": [
    "show([pred_boximg, label_boximg, maskimg])"
   ]
  },
  {
   "cell_type": "code",
   "execution_count": null,
   "id": "e1b86cb7-2bdc-481b-bb62-59fb41c74e23",
   "metadata": {},
   "outputs": [],
   "source": [
    "pred_boximg, label_boximg, maskimg = gen_mask_and_box_for_model_and_data(\n",
    "    aug_model, tdata, tlabel\n",
    ")"
   ]
  },
  {
   "cell_type": "code",
   "execution_count": null,
   "id": "0907abb1-0bfc-44b8-9c96-f3288a3891d2",
   "metadata": {},
   "outputs": [],
   "source": [
    "show([pred_boximg, label_boximg, maskimg])"
   ]
  },
  {
   "cell_type": "code",
   "execution_count": null,
   "id": "eb08d02b-fc8e-4c10-a8d3-5664b977e9ae",
   "metadata": {},
   "outputs": [],
   "source": [
    "def eval_model(model):\n",
    "    preds = []\n",
    "    with torch.no_grad():\n",
    "        model.eval()\n",
    "        for x, y in tqdm.tqdm(ts, total=len(tl), ncols=0):\n",
    "            output = model([x])\n",
    "            preds.append((output, y))\n",
    "\n",
    "    return preds"
   ]
  },
  {
   "cell_type": "code",
   "execution_count": null,
   "id": "9168ffa7-ccb5-4a40-b79d-d53ff9fff13b",
   "metadata": {},
   "outputs": [],
   "source": [
    "# base_eval_preds = eval_model(base_model)\n",
    "# aug_eval_preds = eval_model(aug_model)"
   ]
  },
  {
   "cell_type": "code",
   "execution_count": null,
   "id": "6182dc32-6b7f-4778-b688-ca329cd5f2b8",
   "metadata": {},
   "outputs": [],
   "source": [
    "# with open(\"aug_eval_preds.pkl\", \"wb\") as fd:\n",
    "#     pickle.dump(aug_eval_preds, fd)\n",
    "\n",
    "# with open(\"base_eval_preds.pkl\", \"wb\") as fd:\n",
    "#     pickle.dump(base_eval_preds, fd)"
   ]
  },
  {
   "cell_type": "code",
   "execution_count": null,
   "id": "5fc05c49-5ac9-4f8d-accd-279dba6e2e2a",
   "metadata": {},
   "outputs": [],
   "source": [
    "with open(\"base_eval_preds.pkl\", \"rb\") as fd:\n",
    "    base_eval_preds = pickle.load(fd)\n",
    "\n",
    "with open(\"aug_eval_preds.pkl\", \"rb\") as fd:\n",
    "    aug_eval_preds = pickle.load(fd)"
   ]
  },
  {
   "cell_type": "code",
   "execution_count": null,
   "id": "588e0fe6-7107-46cf-92e6-02712901b396",
   "metadata": {},
   "outputs": [],
   "source": [
    "base_preds, base_labels = base_eval_preds[0]"
   ]
  },
  {
   "cell_type": "code",
   "execution_count": null,
   "id": "6d77effc-8f6d-48c5-941e-8449180592a2",
   "metadata": {},
   "outputs": [],
   "source": [
    "base_preds[0][\"labels\"]"
   ]
  },
  {
   "cell_type": "code",
   "execution_count": null,
   "id": "e58dc248-34f4-404f-8b44-9960d55c7335",
   "metadata": {},
   "outputs": [],
   "source": [
    "def gen_ious(preds):\n",
    "    def calculate_mask_iou(pred_mask, label_mask):\n",
    "        pred_mask = (pred_mask > 0.5).float()\n",
    "        label_mask = (label_mask > 0.5).float()\n",
    "        intersection = torch.sum(pred_mask * label_mask)\n",
    "        union = torch.sum(pred_mask) + torch.sum(label_mask) - intersection\n",
    "        if union == 0:\n",
    "            return 0\n",
    "        else:\n",
    "            return (intersection / union).item()\n",
    "\n",
    "    box_ious = []\n",
    "    mask_ious = []\n",
    "    for pred, label in preds:\n",
    "        pred = pred[0]\n",
    "        if label[\"labels\"].numel() == 0:\n",
    "            continue\n",
    "        breed_id = label[\"labels\"].item()\n",
    "        label_mask = label[\"masks\"][0]\n",
    "        label_box = label[\"boxes\"][0].unsqueeze(0)\n",
    "        pred_idxs = torch.where(pred[\"labels\"] == breed_id)[0]\n",
    "        if pred_idxs.numel() == 0:\n",
    "            iou = 0\n",
    "        else:\n",
    "            pred_idx = pred_idxs[0]\n",
    "            pred_mask = pred[\"masks\"][pred_idx]\n",
    "            pred_box = pred[\"boxes\"][pred_idx].unsqueeze(0)\n",
    "            biou = box_iou(pred_box, label_box)\n",
    "            siou = calculate_mask_iou(pred_mask, label_mask)\n",
    "            box_ious.append(biou.item())\n",
    "            mask_ious.append(siou)\n",
    "\n",
    "    return box_ious, mask_ious"
   ]
  },
  {
   "cell_type": "code",
   "execution_count": null,
   "id": "6ed37533-acdd-4568-a5ee-9f777e60c1b7",
   "metadata": {},
   "outputs": [],
   "source": [
    "base_box_ious, base_mask_ious = gen_ious(base_eval_preds)\n",
    "aug_box_ious, aug_mask_ious = gen_ious(aug_eval_preds)"
   ]
  },
  {
   "cell_type": "code",
   "execution_count": null,
   "id": "94a7d7e6-e791-4924-a454-7190dbcea2c2",
   "metadata": {},
   "outputs": [],
   "source": [
    "print(\n",
    "    f\"box_iou for base model:{np.mean(base_box_ious):0.4f}, box_iou for aug model:{np.mean(aug_box_ious):0.4f}\"\n",
    ")\n",
    "print(\n",
    "    f\"mask_iou for base model:{np.mean(base_mask_ious):0.4f}, mask_iou for aug model:{np.mean(aug_mask_ious):0.4f}\"\n",
    ")"
   ]
  }
 ],
 "metadata": {
  "kernelspec": {
   "display_name": "Python 3 (ipykernel)",
   "language": "python",
   "name": "python3"
  },
  "language_info": {
   "codemirror_mode": {
    "name": "ipython",
    "version": 3
   },
   "file_extension": ".py",
   "mimetype": "text/x-python",
   "name": "python",
   "nbconvert_exporter": "python",
   "pygments_lexer": "ipython3",
   "version": "3.10.12"
  }
 },
 "nbformat": 4,
 "nbformat_minor": 5
}
